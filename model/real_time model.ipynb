{
 "cells": [
  {
   "cell_type": "code",
   "execution_count": 1,
   "metadata": {
    "executionInfo": {
     "elapsed": 4002,
     "status": "ok",
     "timestamp": 1610791195915,
     "user": {
      "displayName": "sathish kumar",
      "photoUrl": "",
      "userId": "09811313852492528034"
     },
     "user_tz": -330
    },
    "id": "-JgPqiPJGB0a"
   },
   "outputs": [
    {
     "name": "stdout",
     "output_type": "stream",
     "text": [
      "617 Closed images\n",
      "616 no_yawn images\n",
      "617 Open images\n",
      "617 yawn images\n"
     ]
    }
   ],
   "source": [
    "import tensorflow as tf\n",
    "import os\n",
    "from tensorflow.keras.preprocessing.image import ImageDataGenerator\n",
    "from tensorflow.keras import layers, models\n",
    "import matplotlib.pyplot as plt\n",
    "import numpy as np\n",
    "from sklearn.model_selection import train_test_split\n",
    "from tensorflow import keras\n",
    "\n",
    "\n",
    "for cate in os.listdir(\"dataset_new/train/\"):\n",
    "    print(str(len(os.listdir(\"dataset_new/train/\" + cate))) + \" \" + cate + \" images\")"
   ]
  },
  {
   "cell_type": "code",
   "execution_count": 2,
   "metadata": {
    "executionInfo": {
     "elapsed": 3702,
     "status": "ok",
     "timestamp": 1610791195920,
     "user": {
      "displayName": "sathish kumar",
      "photoUrl": "",
      "userId": "09811313852492528034"
     },
     "user_tz": -330
    },
    "id": "SPWeFH5EGB0n"
   },
   "outputs": [],
   "source": [
    "train_dir='dataset_new/train/'\n",
    "test_dir='dataset_new/test/'\n"
   ]
  },
  {
   "cell_type": "code",
   "execution_count": 3,
   "metadata": {
    "executionInfo": {
     "elapsed": 3489,
     "status": "ok",
     "timestamp": 1610791195921,
     "user": {
      "displayName": "sathish kumar",
      "photoUrl": "",
      "userId": "09811313852492528034"
     },
     "user_tz": -330
    },
    "id": "9h-qH8S-GB0p"
   },
   "outputs": [],
   "source": [
    "batch_size =10\n",
    "epochs = 10\n",
    "img_height = 48\n",
    "img_width = 48"
   ]
  },
  {
   "cell_type": "code",
   "execution_count": 4,
   "metadata": {
    "colab": {
     "base_uri": "https://localhost:8080/"
    },
    "executionInfo": {
     "elapsed": 39745,
     "status": "ok",
     "timestamp": 1610791232328,
     "user": {
      "displayName": "sathish kumar",
      "photoUrl": "",
      "userId": "09811313852492528034"
     },
     "user_tz": -330
    },
    "id": "esAOf5LfGB0p",
    "outputId": "9234bb8c-dda3-4b34-b445-09187ea4337b"
   },
   "outputs": [
    {
     "name": "stdout",
     "output_type": "stream",
     "text": [
      "Found 2467 images belonging to 4 classes.\n"
     ]
    }
   ],
   "source": [
    "train_image_generator = ImageDataGenerator(rescale=1./255)  \n",
    "train_data_gen = train_image_generator.flow_from_directory(batch_size=batch_size,directory=train_dir,shuffle=True,target_size=(img_height, img_width),class_mode='categorical')"
   ]
  },
  {
   "cell_type": "code",
   "execution_count": 5,
   "metadata": {
    "colab": {
     "base_uri": "https://localhost:8080/"
    },
    "executionInfo": {
     "elapsed": 47836,
     "status": "ok",
     "timestamp": 1610791240619,
     "user": {
      "displayName": "sathish kumar",
      "photoUrl": "",
      "userId": "09811313852492528034"
     },
     "user_tz": -330
    },
    "id": "7HTI_-XaGB0s",
    "outputId": "040eb250-e8d5-4bdd-c603-6c6465ddbba2"
   },
   "outputs": [
    {
     "name": "stdout",
     "output_type": "stream",
     "text": [
      "Found 433 images belonging to 4 classes.\n"
     ]
    }
   ],
   "source": [
    "val_image_generator = ImageDataGenerator(rescale=1./255)  \n",
    "val_data_gen = val_image_generator .flow_from_directory(batch_size=batch_size,directory=test_dir,shuffle=True,target_size=(img_height, img_width),class_mode='categorical')"
   ]
  },
  {
   "cell_type": "code",
   "execution_count": 6,
   "metadata": {
    "executionInfo": {
     "elapsed": 47667,
     "status": "ok",
     "timestamp": 1610791240624,
     "user": {
      "displayName": "sathish kumar",
      "photoUrl": "",
      "userId": "09811313852492528034"
     },
     "user_tz": -330
    },
    "id": "-h4l7WpkGB0t"
   },
   "outputs": [],
   "source": [
    "import warnings\n",
    " \n",
    "\n",
    "import os\n",
    "import glob\n",
    "import matplotlib.pyplot as plt\n",
    "\n",
    "# Import Keras\n",
    "import keras\n",
    "from keras.models import Sequential\n",
    "from keras.layers import Dense,Dropout,Flatten\n",
    "from keras.layers import Conv2D,MaxPooling2D,Activation,AveragePooling2D,BatchNormalization\n",
    "from keras.preprocessing.image import ImageDataGenerator"
   ]
  },
  {
   "cell_type": "code",
   "execution_count": 7,
   "metadata": {
    "executionInfo": {
     "elapsed": 47463,
     "status": "ok",
     "timestamp": 1610791240626,
     "user": {
      "displayName": "sathish kumar",
      "photoUrl": "",
      "userId": "09811313852492528034"
     },
     "user_tz": -330
    },
    "id": "4qVhmZxwGB0t"
   },
   "outputs": [],
   "source": [
    "img_width,img_height =48,48\n",
    "input_shape=(img_width,img_height,3)"
   ]
  },
  {
   "cell_type": "code",
   "execution_count": 8,
   "metadata": {},
   "outputs": [
    {
     "name": "stdout",
     "output_type": "stream",
     "text": [
      "Model: \"sequential\"\n",
      "_________________________________________________________________\n",
      " Layer (type)                Output Shape              Param #   \n",
      "=================================================================\n",
      " conv2d (Conv2D)             (None, 48, 48, 32)        896       \n",
      "                                                                 \n",
      " activation (Activation)     (None, 48, 48, 32)        0         \n",
      "                                                                 \n",
      " batch_normalization (BatchN  (None, 48, 48, 32)       128       \n",
      " ormalization)                                                   \n",
      "                                                                 \n",
      " conv2d_1 (Conv2D)           (None, 48, 48, 32)        9248      \n",
      "                                                                 \n",
      " activation_1 (Activation)   (None, 48, 48, 32)        0         \n",
      "                                                                 \n",
      " batch_normalization_1 (Batc  (None, 48, 48, 32)       128       \n",
      " hNormalization)                                                 \n",
      "                                                                 \n",
      " max_pooling2d (MaxPooling2D  (None, 24, 24, 32)       0         \n",
      " )                                                               \n",
      "                                                                 \n",
      " dropout (Dropout)           (None, 24, 24, 32)        0         \n",
      "                                                                 \n",
      " conv2d_2 (Conv2D)           (None, 24, 24, 64)        18496     \n",
      "                                                                 \n",
      " activation_2 (Activation)   (None, 24, 24, 64)        0         \n",
      "                                                                 \n",
      " batch_normalization_2 (Batc  (None, 24, 24, 64)       256       \n",
      " hNormalization)                                                 \n",
      "                                                                 \n",
      " conv2d_3 (Conv2D)           (None, 24, 24, 64)        36928     \n",
      "                                                                 \n",
      " activation_3 (Activation)   (None, 24, 24, 64)        0         \n",
      "                                                                 \n",
      " batch_normalization_3 (Batc  (None, 24, 24, 64)       256       \n",
      " hNormalization)                                                 \n",
      "                                                                 \n",
      " max_pooling2d_1 (MaxPooling  (None, 12, 12, 64)       0         \n",
      " 2D)                                                             \n",
      "                                                                 \n",
      " dropout_1 (Dropout)         (None, 12, 12, 64)        0         \n",
      "                                                                 \n",
      " conv2d_4 (Conv2D)           (None, 12, 12, 128)       73856     \n",
      "                                                                 \n",
      " activation_4 (Activation)   (None, 12, 12, 128)       0         \n",
      "                                                                 \n",
      " batch_normalization_4 (Batc  (None, 12, 12, 128)      512       \n",
      " hNormalization)                                                 \n",
      "                                                                 \n",
      " conv2d_5 (Conv2D)           (None, 12, 12, 128)       147584    \n",
      "                                                                 \n",
      " activation_5 (Activation)   (None, 12, 12, 128)       0         \n",
      "                                                                 \n",
      " batch_normalization_5 (Batc  (None, 12, 12, 128)      512       \n",
      " hNormalization)                                                 \n",
      "                                                                 \n",
      " max_pooling2d_2 (MaxPooling  (None, 6, 6, 128)        0         \n",
      " 2D)                                                             \n",
      "                                                                 \n",
      " dropout_2 (Dropout)         (None, 6, 6, 128)         0         \n",
      "                                                                 \n",
      " conv2d_6 (Conv2D)           (None, 6, 6, 256)         295168    \n",
      "                                                                 \n",
      " activation_6 (Activation)   (None, 6, 6, 256)         0         \n",
      "                                                                 \n",
      " batch_normalization_6 (Batc  (None, 6, 6, 256)        1024      \n",
      " hNormalization)                                                 \n",
      "                                                                 \n",
      " conv2d_7 (Conv2D)           (None, 6, 6, 256)         590080    \n",
      "                                                                 \n",
      " activation_7 (Activation)   (None, 6, 6, 256)         0         \n",
      "                                                                 \n",
      " batch_normalization_7 (Batc  (None, 6, 6, 256)        1024      \n",
      " hNormalization)                                                 \n",
      "                                                                 \n",
      " max_pooling2d_3 (MaxPooling  (None, 3, 3, 256)        0         \n",
      " 2D)                                                             \n",
      "                                                                 \n",
      " dropout_3 (Dropout)         (None, 3, 3, 256)         0         \n",
      "                                                                 \n",
      " flatten (Flatten)           (None, 2304)              0         \n",
      "                                                                 \n",
      " dense (Dense)               (None, 64)                147520    \n",
      "                                                                 \n",
      " activation_8 (Activation)   (None, 64)                0         \n",
      "                                                                 \n",
      " batch_normalization_8 (Batc  (None, 64)               256       \n",
      " hNormalization)                                                 \n",
      "                                                                 \n",
      " dropout_4 (Dropout)         (None, 64)                0         \n",
      "                                                                 \n",
      " dense_1 (Dense)             (None, 64)                4160      \n",
      "                                                                 \n",
      " activation_9 (Activation)   (None, 64)                0         \n",
      "                                                                 \n",
      " batch_normalization_9 (Batc  (None, 64)               256       \n",
      " hNormalization)                                                 \n",
      "                                                                 \n",
      " dropout_5 (Dropout)         (None, 64)                0         \n",
      "                                                                 \n",
      " dense_2 (Dense)             (None, 4)                 260       \n",
      "                                                                 \n",
      " activation_10 (Activation)  (None, 4)                 0         \n",
      "                                                                 \n",
      "=================================================================\n",
      "Total params: 1,328,548\n",
      "Trainable params: 1,326,372\n",
      "Non-trainable params: 2,176\n",
      "_________________________________________________________________\n"
     ]
    }
   ],
   "source": [
    "model = tf.keras.Sequential()\n",
    "\n",
    "model.add(Conv2D(32,(3,3),padding='same',kernel_initializer='he_normal',input_shape=input_shape))\n",
    "model.add(Activation('relu'))\n",
    "model.add(BatchNormalization())\n",
    "model.add(Conv2D(32,(3,3),padding='same',kernel_initializer='he_normal',input_shape=(48,48,1)))\n",
    "model.add(Activation('relu'))\n",
    "model.add(BatchNormalization())\n",
    "model.add(MaxPooling2D(pool_size=(2,2)))\n",
    "model.add(Dropout(0.2))\n",
    "\n",
    "\n",
    "\n",
    "model.add(Conv2D(64,(3,3),padding='same',kernel_initializer='he_normal'))\n",
    "model.add(Activation('relu'))\n",
    "model.add(BatchNormalization())\n",
    "model.add(Conv2D(64,(3,3),padding='same',kernel_initializer='he_normal'))\n",
    "model.add(Activation('relu'))\n",
    "model.add(BatchNormalization())\n",
    "model.add(MaxPooling2D(pool_size=(2,2)))\n",
    "model.add(Dropout(0.2))\n",
    "\n",
    "\n",
    "\n",
    "model.add(Conv2D(128,(3,3),padding='same',kernel_initializer='he_normal'))\n",
    "model.add(Activation('relu'))\n",
    "model.add(BatchNormalization())\n",
    "model.add(Conv2D(128,(3,3),padding='same',kernel_initializer='he_normal'))\n",
    "model.add(Activation('relu'))\n",
    "model.add(BatchNormalization())\n",
    "model.add(MaxPooling2D(pool_size=(2,2)))\n",
    "model.add(Dropout(0.2))\n",
    "\n",
    "\n",
    "\n",
    "model.add(Conv2D(256,(3,3),padding='same',kernel_initializer='he_normal'))\n",
    "model.add(Activation('relu'))\n",
    "model.add(BatchNormalization())\n",
    "model.add(Conv2D(256,(3,3),padding='same',kernel_initializer='he_normal'))\n",
    "model.add(Activation('relu'))\n",
    "model.add(BatchNormalization())\n",
    "model.add(MaxPooling2D(pool_size=(2,2)))\n",
    "model.add(Dropout(0.2))\n",
    "\n",
    "\n",
    "\n",
    "model.add(Flatten())\n",
    "model.add(Dense(64,kernel_initializer='he_normal'))\n",
    "model.add(Activation('relu'))\n",
    "model.add(BatchNormalization())\n",
    "model.add(Dropout(0.5))\n",
    "\n",
    "\n",
    "model.add(Dense(64,kernel_initializer='he_normal'))\n",
    "model.add(Activation('relu'))\n",
    "model.add(BatchNormalization())\n",
    "model.add(Dropout(0.5))\n",
    "\n",
    "\n",
    "\n",
    "model.add(Dense(4,kernel_initializer='he_normal'))\n",
    "model.add(Activation('softmax'))\n",
    "\n",
    "model.summary()"
   ]
  },
  {
   "cell_type": "code",
   "execution_count": 9,
   "metadata": {
    "colab": {
     "base_uri": "https://localhost:8080/"
    },
    "executionInfo": {
     "elapsed": 49410,
     "status": "ok",
     "timestamp": 1610791243517,
     "user": {
      "displayName": "sathish kumar",
      "photoUrl": "",
      "userId": "09811313852492528034"
     },
     "user_tz": -330
    },
    "id": "MIX3MsZgGB0v",
    "outputId": "a6163d8e-0ad6-4049-9d97-45c4beafeb17"
   },
   "outputs": [],
   "source": [
    "model.compile(optimizer='adam',\n",
    "loss='categorical_crossentropy',\n",
    "metrics=['accuracy'])\n"
   ]
  },
  {
   "cell_type": "code",
   "execution_count": 10,
   "metadata": {
    "executionInfo": {
     "elapsed": 50040,
     "status": "ok",
     "timestamp": 1610791244482,
     "user": {
      "displayName": "sathish kumar",
      "photoUrl": "",
      "userId": "09811313852492528034"
     },
     "user_tz": -330
    },
    "id": "_n0Anzw2GB0w"
   },
   "outputs": [
    {
     "name": "stdout",
     "output_type": "stream",
     "text": [
      "Epoch 1/50\n",
      "247/247 [==============================] - 48s 174ms/step - loss: 1.1841 - accuracy: 0.5582 - val_loss: 1.9732 - val_accuracy: 0.3580\n",
      "Epoch 2/50\n",
      "247/247 [==============================] - 41s 167ms/step - loss: 0.7946 - accuracy: 0.6652 - val_loss: 0.4754 - val_accuracy: 0.7275\n",
      "Epoch 3/50\n",
      "247/247 [==============================] - 41s 167ms/step - loss: 0.6628 - accuracy: 0.6972 - val_loss: 0.4029 - val_accuracy: 0.7852\n",
      "Epoch 4/50\n",
      "247/247 [==============================] - 41s 168ms/step - loss: 0.5485 - accuracy: 0.7471 - val_loss: 0.6038 - val_accuracy: 0.7067\n",
      "Epoch 5/50\n",
      "247/247 [==============================] - 42s 171ms/step - loss: 0.5365 - accuracy: 0.7398 - val_loss: 0.4436 - val_accuracy: 0.7552\n",
      "Epoch 6/50\n",
      "247/247 [==============================] - 44s 177ms/step - loss: 0.5745 - accuracy: 0.7252 - val_loss: 0.3820 - val_accuracy: 0.8083\n",
      "Epoch 7/50\n",
      "247/247 [==============================] - 45s 183ms/step - loss: 0.5414 - accuracy: 0.7377 - val_loss: 0.3504 - val_accuracy: 0.8268\n",
      "Epoch 8/50\n",
      "247/247 [==============================] - 42s 172ms/step - loss: 0.4676 - accuracy: 0.7726 - val_loss: 0.3299 - val_accuracy: 0.8060\n",
      "Epoch 9/50\n",
      "247/247 [==============================] - 45s 183ms/step - loss: 0.4418 - accuracy: 0.7884 - val_loss: 0.3196 - val_accuracy: 0.8268\n",
      "Epoch 10/50\n",
      "247/247 [==============================] - 45s 180ms/step - loss: 0.3956 - accuracy: 0.8018 - val_loss: 0.3300 - val_accuracy: 0.8314\n",
      "Epoch 11/50\n",
      "247/247 [==============================] - 50s 204ms/step - loss: 0.4016 - accuracy: 0.8091 - val_loss: 0.2640 - val_accuracy: 0.8684\n",
      "Epoch 12/50\n",
      "247/247 [==============================] - 48s 195ms/step - loss: 0.3628 - accuracy: 0.8508 - val_loss: 0.2344 - val_accuracy: 0.9030\n",
      "Epoch 13/50\n",
      "247/247 [==============================] - 47s 190ms/step - loss: 0.3308 - accuracy: 0.8638 - val_loss: 0.1955 - val_accuracy: 0.9238\n",
      "Epoch 14/50\n",
      "247/247 [==============================] - 50s 203ms/step - loss: 0.2620 - accuracy: 0.9023 - val_loss: 0.1650 - val_accuracy: 0.9238\n",
      "Epoch 15/50\n",
      "247/247 [==============================] - 45s 183ms/step - loss: 0.2303 - accuracy: 0.9197 - val_loss: 0.1066 - val_accuracy: 0.9607\n",
      "Epoch 16/50\n",
      "247/247 [==============================] - 43s 174ms/step - loss: 0.2046 - accuracy: 0.9339 - val_loss: 0.0816 - val_accuracy: 0.9723\n",
      "Epoch 17/50\n",
      "247/247 [==============================] - 45s 180ms/step - loss: 0.1989 - accuracy: 0.9408 - val_loss: 0.0339 - val_accuracy: 0.9931\n",
      "Epoch 18/50\n",
      "247/247 [==============================] - 42s 170ms/step - loss: 0.1531 - accuracy: 0.9554 - val_loss: 0.1560 - val_accuracy: 0.9307\n",
      "Epoch 19/50\n",
      "247/247 [==============================] - 44s 178ms/step - loss: 0.1352 - accuracy: 0.9578 - val_loss: 0.0746 - val_accuracy: 0.9769\n",
      "Epoch 20/50\n",
      "247/247 [==============================] - 42s 171ms/step - loss: 0.1658 - accuracy: 0.9465 - val_loss: 0.0765 - val_accuracy: 0.9792\n",
      "Epoch 21/50\n",
      "247/247 [==============================] - 42s 169ms/step - loss: 0.1459 - accuracy: 0.9550 - val_loss: 0.0424 - val_accuracy: 0.9931\n",
      "Epoch 22/50\n",
      "247/247 [==============================] - 42s 171ms/step - loss: 0.1713 - accuracy: 0.9526 - val_loss: 0.0790 - val_accuracy: 0.9607\n",
      "Epoch 23/50\n",
      "247/247 [==============================] - 42s 169ms/step - loss: 0.1424 - accuracy: 0.9570 - val_loss: 0.5604 - val_accuracy: 0.8891\n",
      "Epoch 24/50\n",
      "247/247 [==============================] - 41s 167ms/step - loss: 0.1385 - accuracy: 0.9611 - val_loss: 0.0955 - val_accuracy: 0.9723\n",
      "Epoch 25/50\n",
      "247/247 [==============================] - 44s 180ms/step - loss: 0.1368 - accuracy: 0.9591 - val_loss: 0.0484 - val_accuracy: 0.9861\n",
      "Epoch 26/50\n",
      "247/247 [==============================] - 43s 174ms/step - loss: 0.1102 - accuracy: 0.9688 - val_loss: 0.0572 - val_accuracy: 0.9838\n",
      "Epoch 27/50\n",
      "247/247 [==============================] - 42s 171ms/step - loss: 0.0866 - accuracy: 0.9761 - val_loss: 0.0448 - val_accuracy: 0.9908\n",
      "Epoch 28/50\n",
      "247/247 [==============================] - 42s 169ms/step - loss: 0.0663 - accuracy: 0.9801 - val_loss: 0.0497 - val_accuracy: 0.9838\n",
      "Epoch 29/50\n",
      "247/247 [==============================] - 41s 166ms/step - loss: 0.0968 - accuracy: 0.9732 - val_loss: 0.2738 - val_accuracy: 0.9307\n",
      "Epoch 30/50\n",
      "247/247 [==============================] - 43s 175ms/step - loss: 0.1481 - accuracy: 0.9595 - val_loss: 0.0829 - val_accuracy: 0.9815\n",
      "Epoch 31/50\n",
      "247/247 [==============================] - 42s 172ms/step - loss: 0.0688 - accuracy: 0.9781 - val_loss: 0.0325 - val_accuracy: 0.9908\n",
      "Epoch 32/50\n",
      "247/247 [==============================] - 49s 197ms/step - loss: 0.1264 - accuracy: 0.9672 - val_loss: 0.0123 - val_accuracy: 0.9954\n",
      "Epoch 33/50\n",
      "247/247 [==============================] - 42s 171ms/step - loss: 0.0692 - accuracy: 0.9822 - val_loss: 0.0391 - val_accuracy: 0.9838\n",
      "Epoch 34/50\n",
      "247/247 [==============================] - 41s 164ms/step - loss: 0.0764 - accuracy: 0.9769 - val_loss: 0.0537 - val_accuracy: 0.9838\n",
      "Epoch 35/50\n",
      "247/247 [==============================] - 42s 172ms/step - loss: 0.0950 - accuracy: 0.9737 - val_loss: 0.0424 - val_accuracy: 0.9861\n",
      "Epoch 36/50\n",
      "247/247 [==============================] - 42s 170ms/step - loss: 0.0635 - accuracy: 0.9838 - val_loss: 0.0668 - val_accuracy: 0.9769\n",
      "Epoch 37/50\n",
      "247/247 [==============================] - 43s 173ms/step - loss: 0.0873 - accuracy: 0.9773 - val_loss: 0.0193 - val_accuracy: 0.9885\n",
      "Epoch 38/50\n",
      "247/247 [==============================] - 43s 174ms/step - loss: 0.0438 - accuracy: 0.9887 - val_loss: 0.1646 - val_accuracy: 0.9538\n",
      "Epoch 39/50\n",
      "247/247 [==============================] - 42s 168ms/step - loss: 0.0891 - accuracy: 0.9773 - val_loss: 0.0309 - val_accuracy: 0.9931\n",
      "Epoch 40/50\n",
      "247/247 [==============================] - 43s 174ms/step - loss: 0.0353 - accuracy: 0.9927 - val_loss: 0.0224 - val_accuracy: 0.9954\n",
      "Epoch 41/50\n",
      "247/247 [==============================] - 42s 171ms/step - loss: 0.0376 - accuracy: 0.9911 - val_loss: 0.0302 - val_accuracy: 0.9908\n",
      "Epoch 42/50\n",
      "247/247 [==============================] - 43s 175ms/step - loss: 0.1403 - accuracy: 0.9664 - val_loss: 0.0815 - val_accuracy: 0.9746\n",
      "Epoch 43/50\n",
      "247/247 [==============================] - 43s 175ms/step - loss: 0.0845 - accuracy: 0.9769 - val_loss: 0.0174 - val_accuracy: 0.9931\n",
      "Epoch 44/50\n",
      "247/247 [==============================] - 42s 171ms/step - loss: 0.0813 - accuracy: 0.9814 - val_loss: 0.0313 - val_accuracy: 0.9885\n",
      "Epoch 45/50\n",
      "247/247 [==============================] - 43s 173ms/step - loss: 0.0410 - accuracy: 0.9903 - val_loss: 0.0062 - val_accuracy: 0.9977\n",
      "Epoch 46/50\n",
      "247/247 [==============================] - 41s 164ms/step - loss: 0.0302 - accuracy: 0.9935 - val_loss: 0.0259 - val_accuracy: 0.9931\n",
      "Epoch 47/50\n",
      "247/247 [==============================] - 40s 164ms/step - loss: 0.0378 - accuracy: 0.9899 - val_loss: 0.0499 - val_accuracy: 0.9885\n",
      "Epoch 48/50\n",
      "247/247 [==============================] - 41s 164ms/step - loss: 0.0575 - accuracy: 0.9838 - val_loss: 0.0459 - val_accuracy: 0.9908\n",
      "Epoch 49/50\n",
      "247/247 [==============================] - 41s 166ms/step - loss: 0.0505 - accuracy: 0.9895 - val_loss: 0.0147 - val_accuracy: 0.9954\n",
      "Epoch 50/50\n",
      "247/247 [==============================] - 41s 165ms/step - loss: 0.0361 - accuracy: 0.9895 - val_loss: 0.0407 - val_accuracy: 0.9908\n"
     ]
    }
   ],
   "source": [
    "history = model.fit(train_data_gen, epochs=50,\n",
    "validation_data= val_data_gen,)"
   ]
  },
  {
   "cell_type": "code",
   "execution_count": 11,
   "metadata": {},
   "outputs": [],
   "source": [
    "\n",
    "\n",
    "model.save('model_weight.h5')"
   ]
  },
  {
   "cell_type": "code",
   "execution_count": 12,
   "metadata": {},
   "outputs": [],
   "source": [
    "import numpy as np"
   ]
  },
  {
   "cell_type": "code",
   "execution_count": 13,
   "metadata": {},
   "outputs": [
    {
     "name": "stdout",
     "output_type": "stream",
     "text": [
      "44/44 - 2s - 2s/epoch - 47ms/step\n"
     ]
    }
   ],
   "source": [
    "y=np.concatenate([val_data_gen.next()[1] for i in range(val_data_gen.__len__())])\n",
    "true_labels=np.argmax(y, axis=-1)\n",
    "prediction= model.predict(val_data_gen, verbose=2)\n",
    "prediction=np.argmax(prediction, axis=-1)"
   ]
  },
  {
   "cell_type": "code",
   "execution_count": 14,
   "metadata": {},
   "outputs": [],
   "source": [
    "def plot_confusion_matrix(cm, classes,\n",
    "                          normalize=False,\n",
    "                          title='Confusion matrix',\n",
    "                          cmap=plt.cm.Blues):\n",
    "    \"\"\"\n",
    "    This function prints and plots the confusion matrix.\n",
    "    Normalization can be applied by setting `normalize=True`.\n",
    "    \"\"\"\n",
    "    plt.imshow(cm, interpolation='nearest', cmap=cmap)\n",
    "    plt.title(title)\n",
    "    plt.colorbar()\n",
    "    tick_marks = np.arange(len(classes))\n",
    "    plt.xticks(tick_marks, classes, rotation=45)\n",
    "    plt.yticks(tick_marks, classes)\n",
    "\n",
    "    if normalize:\n",
    "        cm = cm.astype('float') / cm.sum(axis=1)[:, np.newaxis]\n",
    "        print(\"Normalized confusion matrix\")\n",
    "    else:\n",
    "        print('Confusion matrix, without normalization')\n",
    "\n",
    "    print(cm)\n",
    "\n",
    "    thresh = cm.max() / 2.\n",
    "    for i, j in itertools.product(range(cm.shape[0]), range(cm.shape[1])):\n",
    "        plt.text(j, i, cm[i, j],\n",
    "            horizontalalignment=\"center\",\n",
    "            color=\"white\" if cm[i, j] > thresh else \"black\")\n",
    "\n",
    "    plt.tight_layout()\n",
    "    plt.ylabel('True label')\n",
    "    plt.xlabel('Predicted label')"
   ]
  },
  {
   "cell_type": "code",
   "execution_count": 15,
   "metadata": {},
   "outputs": [],
   "source": [
    "from sklearn.metrics import confusion_matrix\n",
    "import itertools\n",
    "import matplotlib.pyplot as plt\n",
    "cm = confusion_matrix(y_true=true_labels, y_pred=prediction)"
   ]
  },
  {
   "cell_type": "code",
   "execution_count": 16,
   "metadata": {},
   "outputs": [],
   "source": [
    "cm_plot_labels = ['Closed','no_yawn','Open','yawn']"
   ]
  },
  {
   "cell_type": "code",
   "execution_count": 17,
   "metadata": {},
   "outputs": [
    {
     "name": "stdout",
     "output_type": "stream",
     "text": [
      "Confusion matrix, without normalization\n",
      "[[109   0   0   0]\n",
      " [  0 109   0   0]\n",
      " [  0   0 107   2]\n",
      " [  0   0   2 104]]\n",
      "Accuracy: 0.991\n",
      "Precision: 0.991\n",
      "Recall: 0.991\n",
      "F-Measure: 0.991\n"
     ]
    },
    {
     "data": {
      "image/png": "[encoded data removed]",
      "text/plain": [
       "<Figure size 640x480 with 2 Axes>"
      ]
     },
     "metadata": {},
     "output_type": "display_data"
    }
   ],
   "source": [
    "plot_confusion_matrix(cm=cm, classes=cm_plot_labels, title='Confusion Matrix')\n",
    "from sklearn.metrics import accuracy_score\n",
    "acc=accuracy_score(true_labels,prediction) \n",
    "print('Accuracy: %.3f' % acc)\n",
    "from sklearn.metrics import precision_score\n",
    "precision = precision_score(true_labels,prediction,labels=[1,2], average='micro')\n",
    "print('Precision: %.3f' % precision)\n",
    "from sklearn.metrics import recall_score\n",
    "recall = recall_score(true_labels,prediction, average='micro')\n",
    "print('Recall: %.3f' % recall)\n",
    "from sklearn.metrics import f1_score\n",
    "score = f1_score(true_labels,prediction, average='micro')\n",
    "print('F-Measure: %.3f' % score)"
   ]
  },
  {
   "cell_type": "code",
   "execution_count": null,
   "metadata": {},
   "outputs": [],
   "source": [
    "\n"
   ]
  },
  {
   "cell_type": "code",
   "execution_count": 18,
   "metadata": {
    "executionInfo": {
     "elapsed": 1614,
     "status": "ok",
     "timestamp": 1610793863258,
     "user": {
      "displayName": "sathish kumar",
      "photoUrl": "",
      "userId": "09811313852492528034"
     },
     "user_tz": -330
    },
    "id": "rONFCJWgGB0x"
   },
   "outputs": [],
   "source": [
    "model_json = model.to_json()\n",
    "with open(\"models.json\", \"w\") as json_file:\n",
    "    json_file.write(model_json)"
   ]
  },
  {
   "cell_type": "code",
   "execution_count": null,
   "metadata": {
    "id": "TPIa0qPdy8FD"
   },
   "outputs": [],
   "source": []
  }
 ],
 "metadata": {
  "colab": {
   "collapsed_sections": [],
   "name": "leaf.ipynb",
   "provenance": []
  },
  "kernelspec": {
   "display_name": "Python 3 (ipykernel)",
   "language": "python",
   "name": "python3"
  },
  "language_info": {
   "codemirror_mode": {
    "name": "ipython",
    "version": 3
   },
   "file_extension": ".py",
   "mimetype": "text/x-python",
   "name": "python",
   "nbconvert_exporter": "python",
   "pygments_lexer": "ipython3",
   "version": "3.8.17"
  }
 },
 "nbformat": 4,
 "nbformat_minor": 1
}
